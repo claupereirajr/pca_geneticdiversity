{
 "cells": [
  {
   "cell_type": "code",
   "execution_count": 1,
   "metadata": {},
   "outputs": [
    {
     "name": "stderr",
     "output_type": "stream",
     "text": [
      "Matplotlib is building the font cache; this may take a moment.\n"
     ]
    }
   ],
   "source": [
    "import pandas as pd\n",
    "import scipy as sp\n",
    "import numpy as np\n",
    "import seaborn as sns\n",
    "import matplotlib.pyplot as plt"
   ]
  },
  {
   "cell_type": "code",
   "execution_count": 8,
   "metadata": {},
   "outputs": [],
   "source": [
    "df_raw = pd.read_csv(\"genetic_dataset.csv\", sep=\",\")"
   ]
  },
  {
   "cell_type": "code",
   "execution_count": 9,
   "metadata": {},
   "outputs": [
    {
     "name": "stdout",
     "output_type": "stream",
     "text": [
      "df_raw 1000\n",
      "df_main 1000\n"
     ]
    },
    {
     "data": {
      "text/html": [
       "<div>\n",
       "<style scoped>\n",
       "    .dataframe tbody tr th:only-of-type {\n",
       "        vertical-align: middle;\n",
       "    }\n",
       "\n",
       "    .dataframe tbody tr th {\n",
       "        vertical-align: top;\n",
       "    }\n",
       "\n",
       "    .dataframe thead th {\n",
       "        text-align: right;\n",
       "    }\n",
       "</style>\n",
       "<table border=\"1\" class=\"dataframe\">\n",
       "  <thead>\n",
       "    <tr style=\"text-align: right;\">\n",
       "      <th></th>\n",
       "      <th>GENOTYPES</th>\n",
       "      <th>NAME</th>\n",
       "      <th>DFSI</th>\n",
       "      <th>DFFL</th>\n",
       "      <th>DFBO</th>\n",
       "      <th>SPAD1</th>\n",
       "      <th>SPAD2</th>\n",
       "      <th>RWC</th>\n",
       "      <th>MSI</th>\n",
       "      <th>LAI</th>\n",
       "      <th>SLW</th>\n",
       "      <th>BW</th>\n",
       "      <th>NBP</th>\n",
       "      <th>PH</th>\n",
       "      <th>SCYP</th>\n",
       "      <th>GOT</th>\n",
       "      <th>FL</th>\n",
       "      <th>UI</th>\n",
       "      <th>MIC</th>\n",
       "      <th>TENACITY</th>\n",
       "    </tr>\n",
       "  </thead>\n",
       "  <tbody>\n",
       "    <tr>\n",
       "      <th>0</th>\n",
       "      <td>1</td>\n",
       "      <td>Gen_1</td>\n",
       "      <td>66</td>\n",
       "      <td>119</td>\n",
       "      <td>114</td>\n",
       "      <td>28.9</td>\n",
       "      <td>22.1</td>\n",
       "      <td>61.670344</td>\n",
       "      <td>51.086552</td>\n",
       "      <td>1.93</td>\n",
       "      <td>14.004350</td>\n",
       "      <td>1.558244</td>\n",
       "      <td>59</td>\n",
       "      <td>133</td>\n",
       "      <td>88.48</td>\n",
       "      <td>89.45</td>\n",
       "      <td>20.63</td>\n",
       "      <td>62</td>\n",
       "      <td>3.02</td>\n",
       "      <td>21.85</td>\n",
       "    </tr>\n",
       "    <tr>\n",
       "      <th>1</th>\n",
       "      <td>2</td>\n",
       "      <td>Gen_2</td>\n",
       "      <td>60</td>\n",
       "      <td>127</td>\n",
       "      <td>117</td>\n",
       "      <td>22.3</td>\n",
       "      <td>25.6</td>\n",
       "      <td>99.115894</td>\n",
       "      <td>40.291082</td>\n",
       "      <td>3.35</td>\n",
       "      <td>6.048587</td>\n",
       "      <td>1.169799</td>\n",
       "      <td>35</td>\n",
       "      <td>134</td>\n",
       "      <td>69.99</td>\n",
       "      <td>80.68</td>\n",
       "      <td>16.25</td>\n",
       "      <td>65</td>\n",
       "      <td>4.20</td>\n",
       "      <td>21.48</td>\n",
       "    </tr>\n",
       "    <tr>\n",
       "      <th>2</th>\n",
       "      <td>3</td>\n",
       "      <td>Gen_3</td>\n",
       "      <td>70</td>\n",
       "      <td>149</td>\n",
       "      <td>166</td>\n",
       "      <td>39.6</td>\n",
       "      <td>29.4</td>\n",
       "      <td>87.344650</td>\n",
       "      <td>87.729921</td>\n",
       "      <td>3.72</td>\n",
       "      <td>14.188368</td>\n",
       "      <td>1.261189</td>\n",
       "      <td>47</td>\n",
       "      <td>129</td>\n",
       "      <td>53.59</td>\n",
       "      <td>89.78</td>\n",
       "      <td>16.78</td>\n",
       "      <td>76</td>\n",
       "      <td>3.72</td>\n",
       "      <td>19.36</td>\n",
       "    </tr>\n",
       "    <tr>\n",
       "      <th>3</th>\n",
       "      <td>4</td>\n",
       "      <td>Gen_4</td>\n",
       "      <td>67</td>\n",
       "      <td>138</td>\n",
       "      <td>132</td>\n",
       "      <td>37.2</td>\n",
       "      <td>26.7</td>\n",
       "      <td>74.604713</td>\n",
       "      <td>71.886811</td>\n",
       "      <td>2.03</td>\n",
       "      <td>11.112441</td>\n",
       "      <td>1.676326</td>\n",
       "      <td>38</td>\n",
       "      <td>120</td>\n",
       "      <td>64.83</td>\n",
       "      <td>50.07</td>\n",
       "      <td>20.40</td>\n",
       "      <td>61</td>\n",
       "      <td>4.51</td>\n",
       "      <td>21.61</td>\n",
       "    </tr>\n",
       "    <tr>\n",
       "      <th>4</th>\n",
       "      <td>5</td>\n",
       "      <td>Gen_5</td>\n",
       "      <td>70</td>\n",
       "      <td>149</td>\n",
       "      <td>110</td>\n",
       "      <td>37.5</td>\n",
       "      <td>25.4</td>\n",
       "      <td>94.416901</td>\n",
       "      <td>85.531587</td>\n",
       "      <td>4.64</td>\n",
       "      <td>11.087380</td>\n",
       "      <td>1.279055</td>\n",
       "      <td>58</td>\n",
       "      <td>124</td>\n",
       "      <td>76.70</td>\n",
       "      <td>79.77</td>\n",
       "      <td>19.27</td>\n",
       "      <td>78</td>\n",
       "      <td>5.13</td>\n",
       "      <td>16.24</td>\n",
       "    </tr>\n",
       "  </tbody>\n",
       "</table>\n",
       "</div>"
      ],
      "text/plain": [
       "   GENOTYPES   NAME  DFSI  DFFL  DFBO  SPAD1  SPAD2        RWC        MSI  \\\n",
       "0          1  Gen_1    66   119   114   28.9   22.1  61.670344  51.086552   \n",
       "1          2  Gen_2    60   127   117   22.3   25.6  99.115894  40.291082   \n",
       "2          3  Gen_3    70   149   166   39.6   29.4  87.344650  87.729921   \n",
       "3          4  Gen_4    67   138   132   37.2   26.7  74.604713  71.886811   \n",
       "4          5  Gen_5    70   149   110   37.5   25.4  94.416901  85.531587   \n",
       "\n",
       "    LAI        SLW        BW  NBP   PH   SCYP    GOT     FL  UI   MIC  \\\n",
       "0  1.93  14.004350  1.558244   59  133  88.48  89.45  20.63  62  3.02   \n",
       "1  3.35   6.048587  1.169799   35  134  69.99  80.68  16.25  65  4.20   \n",
       "2  3.72  14.188368  1.261189   47  129  53.59  89.78  16.78  76  3.72   \n",
       "3  2.03  11.112441  1.676326   38  120  64.83  50.07  20.40  61  4.51   \n",
       "4  4.64  11.087380  1.279055   58  124  76.70  79.77  19.27  78  5.13   \n",
       "\n",
       "   TENACITY  \n",
       "0     21.85  \n",
       "1     21.48  \n",
       "2     19.36  \n",
       "3     21.61  \n",
       "4     16.24  "
      ]
     },
     "execution_count": 9,
     "metadata": {},
     "output_type": "execute_result"
    }
   ],
   "source": [
    "df_main = df_raw.copy()\n",
    "print(\"df_raw\", len(df_raw))\n",
    "print(\"df_main\", len(df_main))\n",
    "df_main.head()"
   ]
  },
  {
   "cell_type": "code",
   "execution_count": 39,
   "metadata": {},
   "outputs": [
    {
     "data": {
      "text/plain": [
       "array([[1.        , 0.95879614, 0.92726501, ..., 0.93639373, 0.89677401,\n",
       "        0.92660345],\n",
       "       [0.95879614, 1.        , 0.94228617, ..., 0.8978916 , 0.88590048,\n",
       "        0.9616596 ],\n",
       "       [0.92726501, 0.94228617, 1.        , ..., 0.93940377, 0.97334599,\n",
       "        0.97672531],\n",
       "       ...,\n",
       "       [0.93639373, 0.8978916 , 0.93940377, ..., 1.        , 0.95644294,\n",
       "        0.91400376],\n",
       "       [0.89677401, 0.88590048, 0.97334599, ..., 0.95644294, 1.        ,\n",
       "        0.95427745],\n",
       "       [0.92660345, 0.9616596 , 0.97672531, ..., 0.91400376, 0.95427745,\n",
       "        1.        ]])"
      ]
     },
     "execution_count": 39,
     "metadata": {},
     "output_type": "execute_result"
    }
   ],
   "source": [
    "corr = np.corrcoef(df_main.iloc[:,2:])\n",
    "corr"
   ]
  },
  {
   "cell_type": "code",
   "execution_count": null,
   "metadata": {},
   "outputs": [],
   "source": []
  }
 ],
 "metadata": {
  "interpreter": {
   "hash": "31f2aee4e71d21fbe5cf8b01ff0e069b9275f58929596ceb00d14d90e3e16cd6"
  },
  "kernelspec": {
   "display_name": "Python 3.8.10 64-bit",
   "name": "python3"
  },
  "language_info": {
   "codemirror_mode": {
    "name": "ipython",
    "version": 3
   },
   "file_extension": ".py",
   "mimetype": "text/x-python",
   "name": "python",
   "nbconvert_exporter": "python",
   "pygments_lexer": "ipython3",
   "version": "3.8.10"
  },
  "orig_nbformat": 4
 },
 "nbformat": 4,
 "nbformat_minor": 2
}
